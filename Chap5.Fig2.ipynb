{
 "cells": [
  {
   "cell_type": "code",
   "execution_count": 1,
   "id": "c209a46b-f137-46d8-b3eb-a3f24e927169",
   "metadata": {},
   "outputs": [],
   "source": [
    "from aurora.solver import PWE2D\n",
    "import numpy as np\n",
    "import matplotlib.pyplot as plt"
   ]
  },
  {
   "cell_type": "code",
   "execution_count": 2,
   "id": "f7e9ae91-037e-4a26-86a7-c0e246c2f9fd",
   "metadata": {},
   "outputs": [],
   "source": [
    "N = 301\n",
    "x = np.arange(-N//2+1, N//2+1)\n",
    "X, Y = np.meshgrid(x, x)\n",
    "struct = np.ones((N, N, 1))\n",
    "struct[X**2+Y**2<(0.2*N)**2] = 8.9"
   ]
  },
  {
   "cell_type": "code",
   "execution_count": 3,
   "id": "d9479c40-bdec-47d1-8187-fa7eddc2ac1f",
   "metadata": {},
   "outputs": [],
   "source": [
    "a1, a2 = [1 , 0.0], [0, 1]\n",
    "from aurora.lattice import Lattice\n",
    "l = Lattice(a1, a2)\n",
    "path = l.bz_path([\"G\", \"X\", \"M\", \"G\"], [10, 10, 10])"
   ]
  },
  {
   "cell_type": "code",
   "execution_count": 4,
   "id": "cf59c9c4-3e4f-476e-904b-57ce1b5f4a33",
   "metadata": {},
   "outputs": [],
   "source": [
    "solver = PWE2D()\n",
    "te, tm = solver.solve_kpoints(struct, path, (5, 5), (1.0, 1.0))"
   ]
  },
  {
   "cell_type": "code",
   "execution_count": 11,
   "id": "ed5de355-afa9-414a-9ff8-6c7d2cce5240",
   "metadata": {},
   "outputs": [
    {
     "data": {
      "image/png": "[encoded data removed]",
      "text/plain": [
       "<Figure size 432x288 with 1 Axes>"
      ]
     },
     "metadata": {
      "needs_background": "light"
     },
     "output_type": "display_data"
    }
   ],
   "source": [
    "import matplotlib.pyplot as plt\n",
    "for o in te.T:\n",
    "    plt.plot(o, 'b.')\n",
    "for o in tm.T:\n",
    "    plt.plot(o, 'r.')\n",
    "plt.axis([0, 30, 0, 1])\n",
    "plt.xticks([0, 9, 19, 29], [\"$\\Gamma$\", \"X\", \"M\", \"$\\Gamma$\"])\n",
    "plt.ylabel(\"$\\nicefrac{\\omega a}{2\\pi c}$\")\n",
    "plt.savefig(\"figs/joa/5/2.png\")"
   ]
  },
  {
   "cell_type": "code",
   "execution_count": null,
   "id": "18f58c4c-8aed-4031-8785-0fdaa126e4de",
   "metadata": {},
   "outputs": [],
   "source": []
  }
 ],
 "metadata": {
  "kernelspec": {
   "display_name": "Python 3.10.4 ('env': venv)",
   "language": "python",
   "name": "python3"
  },
  "language_info": {
   "codemirror_mode": {
    "name": "ipython",
    "version": 3
   },
   "file_extension": ".py",
   "mimetype": "text/x-python",
   "name": "python",
   "nbconvert_exporter": "python",
   "pygments_lexer": "ipython3",
   "version": "3.10.4"
  },
  "vscode": {
   "interpreter": {
    "hash": "650050455b0d877d86c5aa82b9f87099bce865684822d318fefcc7388f1de0d0"
   }
  }
 },
 "nbformat": 4,
 "nbformat_minor": 5
}
